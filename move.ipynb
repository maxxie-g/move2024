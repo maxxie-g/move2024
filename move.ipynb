{
 "cells": [
  {
   "cell_type": "code",
   "execution_count": 1,
   "metadata": {},
   "outputs": [
    {
     "name": "stdout",
     "output_type": "stream",
     "text": [
      "Intel MKL WARNING: Support of Intel(R) Streaming SIMD Extensions 4.2 (Intel(R) SSE4.2) enabled only processors has been deprecated. Intel oneAPI Math Kernel Library 2025.0 will require Intel(R) Advanced Vector Extensions (Intel(R) AVX) instructions.\n",
      "Intel MKL WARNING: Support of Intel(R) Streaming SIMD Extensions 4.2 (Intel(R) SSE4.2) enabled only processors has been deprecated. Intel oneAPI Math Kernel Library 2025.0 will require Intel(R) Advanced Vector Extensions (Intel(R) AVX) instructions.\n"
     ]
    }
   ],
   "source": [
    "import tabula\n",
    "import pandas as pd"
   ]
  },
  {
   "cell_type": "markdown",
   "metadata": {},
   "source": [
    "## FedEx"
   ]
  },
  {
   "cell_type": "code",
   "execution_count": null,
   "metadata": {},
   "outputs": [],
   "source": [
    "def extract_and_combine_tables(pdf_path, page_number):\n",
    "    tables = tabula.read_pdf(pdf_path, pages = page_number)\n",
    "\n",
    "    print(tables)\n",
    "    if(tables):\n",
    "\n",
    "        combined_table = pd.concat(tables, ignore_index = True)\n",
    "        return combined_table\n",
    "    else:\n",
    "        print(\"No tables found\")\n",
    "        return None\n",
    "\n",
    "\n",
    "pdf_file_path = \"./shipping/fedex.pdf\"\n",
    "excel_file_path = \"./shipping/shipping_costs.xlsx\"\n",
    "\n",
    "combined_table = extract_and_combine_tables(pdf_file_path, 41)\n",
    "\n",
    "with pd.ExcelWriter(excel_file_path, engine = \"openpyxl\", mode = 'a') as writer:\n",
    "    combined_table.to_excel(writer, sheet_name = 'fedex', index = False)"
   ]
  },
  {
   "cell_type": "markdown",
   "metadata": {},
   "source": [
    "## UPS\n",
    "1. UPS Worldwide Express: [82, 83, 84]\n",
    "2. UPS Worldwide Saver: [87, 88, 89]\n",
    "3. UPS Worldwide Expedited: [90, 91, 92]"
   ]
  },
  {
   "cell_type": "code",
   "execution_count": null,
   "metadata": {},
   "outputs": [],
   "source": [
    "products = [\n",
    "    [82, 83, 84],\n",
    "    [87, 88, 89],\n",
    "    [90, 91, 92]\n",
    "]\n",
    "pdf_path = \"./shipping/ups.pdf\"\n",
    "index = 0\n",
    "\n",
    "for product in products:\n",
    "    tables = []\n",
    "    df = pd.DataFrame()\n",
    "    for page_number in product:\n",
    "        print(page_number)\n",
    "        temp_table = tabula.read_pdf(pdf_path, pages = page_number)\n",
    "        temp_df = pd.concat(temp_table, ignore_index = True)\n",
    "        tables.append(temp_df)\n",
    "\n",
    "    df = pd.concat(tables, ignore_index = True)\n",
    "    df.to_csv(f\"temp{index}.csv\")\n",
    "    index += 1"
   ]
  },
  {
   "cell_type": "markdown",
   "metadata": {},
   "source": [
    "## USPS\n",
    "1. Global Express Guaranteed: [40]\n",
    "2. Priority Mail Express International: [41, 42]\n",
    "3. Priority Mail International: [43, 44]"
   ]
  },
  {
   "cell_type": "code",
   "execution_count": 2,
   "metadata": {},
   "outputs": [
    {
     "name": "stdout",
     "output_type": "stream",
     "text": [
      "40\n",
      "41\n",
      "42\n",
      "43\n",
      "44\n"
     ]
    }
   ],
   "source": [
    "products = [\n",
    "    [40],\n",
    "    [41, 42],\n",
    "    [43, 44]\n",
    "]\n",
    "\n",
    "pdf_path = \"./shipping/usps.pdf\"\n",
    "index = 0\n",
    "\n",
    "for product in products:\n",
    "    tables = []\n",
    "    df = pd.DataFrame()\n",
    "    for page_number in product:\n",
    "        print(page_number)\n",
    "        temp_table = tabula.read_pdf(pdf_path, pages = page_number)\n",
    "        temp_df = pd.concat(temp_table, ignore_index = True)\n",
    "        tables.append(temp_df)\n",
    "\n",
    "    df = pd.concat(tables, ignore_index = True)\n",
    "    df.to_csv(f\"temp{index}.csv\")\n",
    "    index += 1"
   ]
  }
 ],
 "metadata": {
  "kernelspec": {
   "display_name": "move2024",
   "language": "python",
   "name": "python3"
  },
  "language_info": {
   "codemirror_mode": {
    "name": "ipython",
    "version": 3
   },
   "file_extension": ".py",
   "mimetype": "text/x-python",
   "name": "python",
   "nbconvert_exporter": "python",
   "pygments_lexer": "ipython3",
   "version": "3.11.5"
  }
 },
 "nbformat": 4,
 "nbformat_minor": 2
}
